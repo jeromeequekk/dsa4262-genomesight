{
 "cells": [
  {
   "cell_type": "markdown",
   "metadata": {},
   "source": [
    "# Task 1: Develop a machine learning method to identify RNA modifications from direct RNA-Seq data"
   ]
  },
  {
   "cell_type": "markdown",
   "metadata": {},
   "source": [
    "Write a computational method that predicts m6A RNA modification from direct RNA-Seq data. The method should be able to train a new new model, and make predictions on unseen test data. Specifically, your method should fullfil the following requirements:\n",
    "\n",
    "Your method should contain two scripts, one for model training, and one for making predictions. The prediction script will be evaluated by other students."
   ]
  },
  {
   "cell_type": "code",
   "execution_count": 3,
   "metadata": {},
   "outputs": [],
   "source": [
    "import json\n",
    "import os\n",
    "import sys\n",
    "import gzip\n",
    "\n",
    "import pandas as pd"
   ]
  },
  {
   "cell_type": "markdown",
   "metadata": {},
   "source": [
    "#### 1. Reading the files"
   ]
  },
  {
   "cell_type": "code",
   "execution_count": 4,
   "metadata": {},
   "outputs": [
    {
     "data": {
      "text/plain": [
       "['Student_evaluation_guideline.html',\n",
       " 'dataset0.json.gz',\n",
       " 'data.info.labelled',\n",
       " 'handout_TeamProject_RNAModifications.html']"
      ]
     },
     "execution_count": 4,
     "metadata": {},
     "output_type": "execute_result"
    }
   ],
   "source": [
    "os.listdir(\"data/\")"
   ]
  },
  {
   "cell_type": "code",
   "execution_count": 5,
   "metadata": {},
   "outputs": [],
   "source": [
    "M6A_FILE_PATH = \"data/data.info.labelled\"\n",
    "DIRECT_RNA_SEQ_DATA_FILE_PATH = \"data/dataset0.json.gz\""
   ]
  },
  {
   "cell_type": "code",
   "execution_count": 6,
   "metadata": {},
   "outputs": [],
   "source": [
    "# Read m6a labels\n",
    "def read_m6A_labels(m6a_file_path):\n",
    "    m6a_df = pd.read_csv(m6a_file_path, sep=\",\")\n",
    "    m6a_df.columns = [\"gene_id\", \"transcript_id\", \"transcript_position\", \"label\"]\n",
    "    return m6a_df"
   ]
  },
  {
   "cell_type": "code",
   "execution_count": 7,
   "metadata": {},
   "outputs": [],
   "source": [
    "# df = read_m6A_labels(M6A_FILE_PATH)\n",
    "# df.head()"
   ]
  },
  {
   "cell_type": "code",
   "execution_count": 8,
   "metadata": {},
   "outputs": [],
   "source": [
    "def read_direct_rna_seq_data(data_path):\n",
    "    data = []\n",
    "    with gzip.open(data_path, 'rt') as f:\n",
    "        for line in f:\n",
    "            line_data = json.loads(line)\n",
    "            for transcript_id, position_data in line_data.items():\n",
    "                for transcript_position, combined_nucleotides_data in position_data.items():\n",
    "                    for read_idx, (nucleotide, reads) in enumerate(combined_nucleotides_data.items()):\n",
    "                        for read in reads:\n",
    "                            data.append({\n",
    "                                'transcript_id': transcript_id,\n",
    "                                'position': int(transcript_position),\n",
    "                                'read_id': read_idx,\n",
    "                                'read': read\n",
    "                            })\n",
    "\n",
    "    df = pd.DataFrame(data)\n",
    "    return df\n"
   ]
  },
  {
   "cell_type": "code",
   "execution_count": 9,
   "metadata": {},
   "outputs": [],
   "source": [
    "rna_seq_data = read_direct_rna_seq_data(DIRECT_RNA_SEQ_DATA_FILE_PATH)"
   ]
  },
  {
   "cell_type": "code",
   "execution_count": 10,
   "metadata": {},
   "outputs": [
    {
     "data": {
      "text/html": [
       "<div>\n",
       "<style scoped>\n",
       "    .dataframe tbody tr th:only-of-type {\n",
       "        vertical-align: middle;\n",
       "    }\n",
       "\n",
       "    .dataframe tbody tr th {\n",
       "        vertical-align: top;\n",
       "    }\n",
       "\n",
       "    .dataframe thead th {\n",
       "        text-align: right;\n",
       "    }\n",
       "</style>\n",
       "<table border=\"1\" class=\"dataframe\">\n",
       "  <thead>\n",
       "    <tr style=\"text-align: right;\">\n",
       "      <th></th>\n",
       "      <th>transcript_id</th>\n",
       "      <th>position</th>\n",
       "      <th>read_id</th>\n",
       "      <th>read</th>\n",
       "    </tr>\n",
       "  </thead>\n",
       "  <tbody>\n",
       "    <tr>\n",
       "      <th>0</th>\n",
       "      <td>ENST00000000233</td>\n",
       "      <td>244</td>\n",
       "      <td>0</td>\n",
       "      <td>[0.00299, 2.06, 125.0, 0.0177, 10.4, 122.0, 0....</td>\n",
       "    </tr>\n",
       "    <tr>\n",
       "      <th>1</th>\n",
       "      <td>ENST00000000233</td>\n",
       "      <td>244</td>\n",
       "      <td>0</td>\n",
       "      <td>[0.00631, 2.53, 125.0, 0.00844, 4.67, 126.0, 0...</td>\n",
       "    </tr>\n",
       "    <tr>\n",
       "      <th>2</th>\n",
       "      <td>ENST00000000233</td>\n",
       "      <td>244</td>\n",
       "      <td>0</td>\n",
       "      <td>[0.00465, 3.92, 109.0, 0.0136, 12.0, 124.0, 0....</td>\n",
       "    </tr>\n",
       "    <tr>\n",
       "      <th>3</th>\n",
       "      <td>ENST00000000233</td>\n",
       "      <td>244</td>\n",
       "      <td>0</td>\n",
       "      <td>[0.00398, 2.06, 125.0, 0.0083, 5.01, 130.0, 0....</td>\n",
       "    </tr>\n",
       "    <tr>\n",
       "      <th>4</th>\n",
       "      <td>ENST00000000233</td>\n",
       "      <td>244</td>\n",
       "      <td>0</td>\n",
       "      <td>[0.00664, 2.92, 120.0, 0.00266, 3.94, 129.0, 0...</td>\n",
       "    </tr>\n",
       "    <tr>\n",
       "      <th>...</th>\n",
       "      <td>...</td>\n",
       "      <td>...</td>\n",
       "      <td>...</td>\n",
       "      <td>...</td>\n",
       "    </tr>\n",
       "    <tr>\n",
       "      <th>95</th>\n",
       "      <td>ENST00000000233</td>\n",
       "      <td>244</td>\n",
       "      <td>0</td>\n",
       "      <td>[0.0059, 5.57, 126.0, 0.012, 11.2, 127.0, 0.00...</td>\n",
       "    </tr>\n",
       "    <tr>\n",
       "      <th>96</th>\n",
       "      <td>ENST00000000233</td>\n",
       "      <td>244</td>\n",
       "      <td>0</td>\n",
       "      <td>[0.012, 3.73, 124.0, 0.0252, 14.4, 123.0, 0.00...</td>\n",
       "    </tr>\n",
       "    <tr>\n",
       "      <th>97</th>\n",
       "      <td>ENST00000000233</td>\n",
       "      <td>244</td>\n",
       "      <td>0</td>\n",
       "      <td>[0.0135, 4.09, 126.0, 0.0054, 5.71, 127.0, 0.0...</td>\n",
       "    </tr>\n",
       "    <tr>\n",
       "      <th>98</th>\n",
       "      <td>ENST00000000233</td>\n",
       "      <td>244</td>\n",
       "      <td>0</td>\n",
       "      <td>[0.0083, 4.17, 121.0, 0.00973, 5.68, 124.0, 0....</td>\n",
       "    </tr>\n",
       "    <tr>\n",
       "      <th>99</th>\n",
       "      <td>ENST00000000233</td>\n",
       "      <td>244</td>\n",
       "      <td>0</td>\n",
       "      <td>[0.0064, 8.5, 122.0, 0.00531, 14.9, 117.0, 0.0...</td>\n",
       "    </tr>\n",
       "  </tbody>\n",
       "</table>\n",
       "<p>100 rows × 4 columns</p>\n",
       "</div>"
      ],
      "text/plain": [
       "      transcript_id  position  read_id  \\\n",
       "0   ENST00000000233       244        0   \n",
       "1   ENST00000000233       244        0   \n",
       "2   ENST00000000233       244        0   \n",
       "3   ENST00000000233       244        0   \n",
       "4   ENST00000000233       244        0   \n",
       "..              ...       ...      ...   \n",
       "95  ENST00000000233       244        0   \n",
       "96  ENST00000000233       244        0   \n",
       "97  ENST00000000233       244        0   \n",
       "98  ENST00000000233       244        0   \n",
       "99  ENST00000000233       244        0   \n",
       "\n",
       "                                                 read  \n",
       "0   [0.00299, 2.06, 125.0, 0.0177, 10.4, 122.0, 0....  \n",
       "1   [0.00631, 2.53, 125.0, 0.00844, 4.67, 126.0, 0...  \n",
       "2   [0.00465, 3.92, 109.0, 0.0136, 12.0, 124.0, 0....  \n",
       "3   [0.00398, 2.06, 125.0, 0.0083, 5.01, 130.0, 0....  \n",
       "4   [0.00664, 2.92, 120.0, 0.00266, 3.94, 129.0, 0...  \n",
       "..                                                ...  \n",
       "95  [0.0059, 5.57, 126.0, 0.012, 11.2, 127.0, 0.00...  \n",
       "96  [0.012, 3.73, 124.0, 0.0252, 14.4, 123.0, 0.00...  \n",
       "97  [0.0135, 4.09, 126.0, 0.0054, 5.71, 127.0, 0.0...  \n",
       "98  [0.0083, 4.17, 121.0, 0.00973, 5.68, 124.0, 0....  \n",
       "99  [0.0064, 8.5, 122.0, 0.00531, 14.9, 117.0, 0.0...  \n",
       "\n",
       "[100 rows x 4 columns]"
      ]
     },
     "execution_count": 10,
     "metadata": {},
     "output_type": "execute_result"
    }
   ],
   "source": [
    "# rna_seq_data.head()\n",
    "rna_seq_data.head(100)"
   ]
  },
  {
   "cell_type": "markdown",
   "metadata": {},
   "source": [
    "#### 2. Train Test Split"
   ]
  },
  {
   "cell_type": "code",
   "execution_count": null,
   "metadata": {},
   "outputs": [],
   "source": []
  },
  {
   "cell_type": "markdown",
   "metadata": {},
   "source": []
  }
 ],
 "metadata": {
  "kernelspec": {
   "display_name": "Python 3",
   "language": "python",
   "name": "python3"
  },
  "language_info": {
   "codemirror_mode": {
    "name": "ipython",
    "version": 3
   },
   "file_extension": ".py",
   "mimetype": "text/x-python",
   "name": "python",
   "nbconvert_exporter": "python",
   "pygments_lexer": "ipython3",
   "version": "3.11.7"
  }
 },
 "nbformat": 4,
 "nbformat_minor": 2
}
